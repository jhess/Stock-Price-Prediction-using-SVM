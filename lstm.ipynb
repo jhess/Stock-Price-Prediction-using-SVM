{
 "cells": [
  {
   "cell_type": "code",
   "execution_count": 1,
   "metadata": {},
   "outputs": [
    {
     "name": "stdout",
     "output_type": "stream",
     "text": [
      "WARNING:tensorflow:From c:\\Users\\justhess\\OneDrive - Agilent Technologies\\Documents\\Python\\Stocks\\venv\\Lib\\site-packages\\keras\\src\\losses.py:2976: The name tf.losses.sparse_softmax_cross_entropy is deprecated. Please use tf.compat.v1.losses.sparse_softmax_cross_entropy instead.\n",
      "\n"
     ]
    }
   ],
   "source": [
    "import numpy as np\n",
    "import pandas as pd\n",
    "from datetime import datetime, timedelta\n",
    "from sklearn.model_selection import train_test_split\n",
    "from sklearn.preprocessing import MinMaxScaler\n",
    "from sklearn.metrics import mean_squared_error\n",
    "from keras.callbacks import EarlyStopping\n",
    "from keras.models import Sequential\n",
    "from keras.layers import Layer, LSTM, Dense, Dropout, Flatten, AdditiveAttention, Permute, Reshape, Multiply, BatchNormalization\n",
    "from downloadStockSp500Prices import get_stock_data, get_stock_test_data, predict_stock_price\n",
    "from helpers import create_sequential_data, get_test_data\n",
    "import matplotlib.pyplot as plt"
   ]
  },
  {
   "cell_type": "code",
   "execution_count": 2,
   "metadata": {},
   "outputs": [
    {
     "name": "stderr",
     "output_type": "stream",
     "text": [
      "[*********************100%%**********************]  1 of 1 completed\n"
     ]
    }
   ],
   "source": [
    "# Hyperparameter\n",
    "window_size = 60 # timesteps, in days (this is a hyperparameter)\n",
    "\n",
    "# Number of future days to predict\n",
    "predict_days = 4\n",
    "\n",
    "stock_symbol = \"AAPL\"\n",
    "# Train data start and end date period\n",
    "start_str = \"2022-01-01\"\n",
    "end_str = \"2023-03-01\"\n",
    "\n",
    "get_stock_data(stock_symbol, start_date=start_str, end_date=end_str)\n",
    "\n",
    "# Convert timestamp string to datetime object - we want the test data to be end date + window size + future days we are predicting\n",
    "# Ex. if window size is 60, and we want to predict 4 days after our train data ends, we want 64 days after the end date\n",
    "end_timestamp = datetime.strptime(end_str, \"%Y-%m-%d\")\n",
    "\n",
    "# Start of test data (one day after train data end date)\n",
    "test_start_timestamp = end_timestamp + timedelta(days=1)\n",
    "\n",
    "# trading_days = window_size + predict_days\n",
    "\n",
    "# # get test data - we need number of timesteps (ex. 60) plus future days (ex. 4) that we are predicting \n",
    "# # (NOTE: Not the same as predicting a sequence of days at once, the LSTM should still predict just one future day based on the window)\n",
    "# get_stock_test_data(stock_symbol, test_start_timestamp, trading_days)"
   ]
  },
  {
   "cell_type": "code",
   "execution_count": 3,
   "metadata": {},
   "outputs": [
    {
     "data": {
      "text/html": [
       "<div>\n",
       "<style scoped>\n",
       "    .dataframe tbody tr th:only-of-type {\n",
       "        vertical-align: middle;\n",
       "    }\n",
       "\n",
       "    .dataframe tbody tr th {\n",
       "        vertical-align: top;\n",
       "    }\n",
       "\n",
       "    .dataframe thead th {\n",
       "        text-align: right;\n",
       "    }\n",
       "</style>\n",
       "<table border=\"1\" class=\"dataframe\">\n",
       "  <thead>\n",
       "    <tr style=\"text-align: right;\">\n",
       "      <th></th>\n",
       "      <th>Date</th>\n",
       "      <th>Open</th>\n",
       "      <th>High</th>\n",
       "      <th>Low</th>\n",
       "      <th>Close</th>\n",
       "      <th>Adj Close</th>\n",
       "      <th>Volume</th>\n",
       "    </tr>\n",
       "  </thead>\n",
       "  <tbody>\n",
       "    <tr>\n",
       "      <th>0</th>\n",
       "      <td>2022-01-03</td>\n",
       "      <td>177.830002</td>\n",
       "      <td>182.880005</td>\n",
       "      <td>177.710007</td>\n",
       "      <td>182.009995</td>\n",
       "      <td>179.273605</td>\n",
       "      <td>104487900</td>\n",
       "    </tr>\n",
       "    <tr>\n",
       "      <th>1</th>\n",
       "      <td>2022-01-04</td>\n",
       "      <td>182.630005</td>\n",
       "      <td>182.940002</td>\n",
       "      <td>179.119995</td>\n",
       "      <td>179.699997</td>\n",
       "      <td>176.998337</td>\n",
       "      <td>99310400</td>\n",
       "    </tr>\n",
       "    <tr>\n",
       "      <th>2</th>\n",
       "      <td>2022-01-05</td>\n",
       "      <td>179.610001</td>\n",
       "      <td>180.169998</td>\n",
       "      <td>174.639999</td>\n",
       "      <td>174.919998</td>\n",
       "      <td>172.290176</td>\n",
       "      <td>94537600</td>\n",
       "    </tr>\n",
       "    <tr>\n",
       "      <th>3</th>\n",
       "      <td>2022-01-06</td>\n",
       "      <td>172.699997</td>\n",
       "      <td>175.300003</td>\n",
       "      <td>171.639999</td>\n",
       "      <td>172.000000</td>\n",
       "      <td>169.414124</td>\n",
       "      <td>96904000</td>\n",
       "    </tr>\n",
       "    <tr>\n",
       "      <th>4</th>\n",
       "      <td>2022-01-07</td>\n",
       "      <td>172.889999</td>\n",
       "      <td>174.139999</td>\n",
       "      <td>171.029999</td>\n",
       "      <td>172.169998</td>\n",
       "      <td>169.581543</td>\n",
       "      <td>86709100</td>\n",
       "    </tr>\n",
       "  </tbody>\n",
       "</table>\n",
       "</div>"
      ],
      "text/plain": [
       "         Date        Open        High         Low       Close   Adj Close  \\\n",
       "0  2022-01-03  177.830002  182.880005  177.710007  182.009995  179.273605   \n",
       "1  2022-01-04  182.630005  182.940002  179.119995  179.699997  176.998337   \n",
       "2  2022-01-05  179.610001  180.169998  174.639999  174.919998  172.290176   \n",
       "3  2022-01-06  172.699997  175.300003  171.639999  172.000000  169.414124   \n",
       "4  2022-01-07  172.889999  174.139999  171.029999  172.169998  169.581543   \n",
       "\n",
       "      Volume  \n",
       "0  104487900  \n",
       "1   99310400  \n",
       "2   94537600  \n",
       "3   96904000  \n",
       "4   86709100  "
      ]
     },
     "execution_count": 3,
     "metadata": {},
     "output_type": "execute_result"
    }
   ],
   "source": [
    "# Load Train data\n",
    "data = pd.read_csv(\"AAPL_stock_data.csv\")\n",
    "data.head()"
   ]
  },
  {
   "cell_type": "code",
   "execution_count": 4,
   "metadata": {},
   "outputs": [
    {
     "name": "stdout",
     "output_type": "stream",
     "text": [
      "<class 'pandas.core.frame.DataFrame'>\n",
      "RangeIndex: 290 entries, 0 to 289\n",
      "Data columns (total 7 columns):\n",
      " #   Column     Non-Null Count  Dtype  \n",
      "---  ------     --------------  -----  \n",
      " 0   Date       290 non-null    object \n",
      " 1   Open       290 non-null    float64\n",
      " 2   High       290 non-null    float64\n",
      " 3   Low        290 non-null    float64\n",
      " 4   Close      290 non-null    float64\n",
      " 5   Adj Close  290 non-null    float64\n",
      " 6   Volume     290 non-null    int64  \n",
      "dtypes: float64(5), int64(1), object(1)\n",
      "memory usage: 16.0+ KB\n"
     ]
    }
   ],
   "source": [
    "data.info()"
   ]
  },
  {
   "cell_type": "code",
   "execution_count": 5,
   "metadata": {},
   "outputs": [
    {
     "data": {
      "text/plain": [
       "(290, 1)"
      ]
     },
     "execution_count": 5,
     "metadata": {},
     "output_type": "execute_result"
    }
   ],
   "source": [
    "data[\"Close\"] = pd.to_numeric(data.Close, errors=\"coerce\")\n",
    "data = data.dropna()\n",
    "trainData = data.iloc[:,4:5].values # Only use Close column values as training data\n",
    "trainData.reshape(-1,1).shape # Reshape first dimension so it goes from matrix to a column vector (number of rows is implicitly inferred)"
   ]
  },
  {
   "cell_type": "code",
   "execution_count": 6,
   "metadata": {},
   "outputs": [
    {
     "name": "stdout",
     "output_type": "stream",
     "text": [
      "<class 'pandas.core.frame.DataFrame'>\n",
      "RangeIndex: 290 entries, 0 to 289\n",
      "Data columns (total 7 columns):\n",
      " #   Column     Non-Null Count  Dtype  \n",
      "---  ------     --------------  -----  \n",
      " 0   Date       290 non-null    object \n",
      " 1   Open       290 non-null    float64\n",
      " 2   High       290 non-null    float64\n",
      " 3   Low        290 non-null    float64\n",
      " 4   Close      290 non-null    float64\n",
      " 5   Adj Close  290 non-null    float64\n",
      " 6   Volume     290 non-null    int64  \n",
      "dtypes: float64(5), int64(1), object(1)\n",
      "memory usage: 16.0+ KB\n"
     ]
    }
   ],
   "source": [
    "data.info()"
   ]
  },
  {
   "cell_type": "code",
   "execution_count": 7,
   "metadata": {},
   "outputs": [
    {
     "data": {
      "text/plain": [
       "(290, 1)"
      ]
     },
     "execution_count": 7,
     "metadata": {},
     "output_type": "execute_result"
    }
   ],
   "source": [
    "# Rescale data to be between 0 and 1 for better perfomance/normalization\n",
    "sc = MinMaxScaler(feature_range=(0,1))\n",
    "trainData = sc.fit_transform(trainData) # scale data to be between 0 and 1\n",
    "trainData.shape"
   ]
  },
  {
   "cell_type": "code",
   "execution_count": 8,
   "metadata": {},
   "outputs": [
    {
     "name": "stdout",
     "output_type": "stream",
     "text": [
      "(230, 60) (230,)\n",
      "46\n",
      "(46, 60) (46,)\n"
     ]
    },
    {
     "data": {
      "text/plain": [
       "((184, 60, 1), (184,))"
      ]
     },
     "execution_count": 8,
     "metadata": {},
     "output_type": "execute_result"
    }
   ],
   "source": [
    "X_train = []\n",
    "y_train = []\n",
    "\n",
    "predict_days = 0\n",
    "\n",
    "predict_multipledays = True if (predict_days > 1) else False\n",
    "\n",
    "# get our data that has a sliding window applied to it, where y represents the next day after the interval of window_size days for each X sample\n",
    "# TODO: Create sliding window in create_sequential_data that moves up by more than 1 day, less overfitting\n",
    "# X - (samples, window_size), y - (samples, 1)\n",
    "X, y = create_sequential_data(trainData, window_size)\n",
    "print(X.shape, y.shape)\n",
    "\n",
    "# Test train split\n",
    "# NOTE: Test size does not represent the number of days (raw data), it is the number of days we want to predict from all our windows in X\n",
    "train_size = int(len(X) * 0.8)\n",
    "test_size = len(X) - train_size\n",
    "print(test_size)\n",
    "\n",
    "# X_train, X_test = X[:train_size], X[train_size:]\n",
    "# y_train, y_test = y[:train_size], y[train_size:]\n",
    "\n",
    "# Split the data into train and test sets\n",
    "X_train, X_test, y_train, y_test = train_test_split(X, y, test_size=test_size, shuffle=False)\n",
    "print(X_test.shape, y_test.shape)\n",
    "\n",
    "# This code below is optional, but the total number of samples must be divisible by window_size and future_days\n",
    "# Data is in the shape of (samples, timesteps, features), where samples is implicitly determined input_shape is (timesteps, features)\n",
    "# X_train = X_train.reshape(-1, window_size, 1) # implicitly figures out number of samples for batch dimension based on total data samples\n",
    "#y_train = y_train.reshape(-1, predict_days)\n",
    "# print(X_train.shape, y_train.shape)\n",
    "\n",
    "# Add batch size axis for input into LSTM - Data is in the shape of (samples, timesteps, features), where input_shape is (timesteps, features)\n",
    "X_train = np.reshape(X_train, (X_train.shape[0], X_train.shape[1], 1)) # Last 1 indicates have one feature (the price) in each timestep\n",
    "X_train.shape, y_train.shape"
   ]
  },
  {
   "cell_type": "code",
   "execution_count": 9,
   "metadata": {},
   "outputs": [],
   "source": [
    "#TODO: Move Reshape into Attention class Forward, add comments what output looks like of reshape\n",
    "\n",
    "class AdditiveAttentionLayer(Layer):\n",
    "    def __init__(self):\n",
    "        super(AdditiveAttentionLayer, self).__init__()\n",
    "        self.attention = AdditiveAttention(name='attention_weight')\n",
    "\n",
    "    def call(self, inputs):\n",
    "        attention_result = self.attention([inputs, inputs])\n",
    "        return attention_result"
   ]
  },
  {
   "cell_type": "code",
   "execution_count": 10,
   "metadata": {},
   "outputs": [
    {
     "name": "stdout",
     "output_type": "stream",
     "text": [
      "WARNING:tensorflow:From c:\\Users\\justhess\\OneDrive - Agilent Technologies\\Documents\\Python\\Stocks\\venv\\Lib\\site-packages\\keras\\src\\backend.py:873: The name tf.get_default_graph is deprecated. Please use tf.compat.v1.get_default_graph instead.\n",
      "\n",
      "WARNING:tensorflow:From c:\\Users\\justhess\\OneDrive - Agilent Technologies\\Documents\\Python\\Stocks\\venv\\Lib\\site-packages\\keras\\src\\optimizers\\__init__.py:309: The name tf.train.Optimizer is deprecated. Please use tf.compat.v1.train.Optimizer instead.\n",
      "\n",
      "Model: \"sequential\"\n",
      "_________________________________________________________________\n",
      " Layer (type)                Output Shape              Param #   \n",
      "=================================================================\n",
      " lstm (LSTM)                 (None, 60, 100)           40800     \n",
      "                                                                 \n",
      " dropout (Dropout)           (None, 60, 100)           0         \n",
      "                                                                 \n",
      " lstm_1 (LSTM)               (None, 60, 100)           80400     \n",
      "                                                                 \n",
      " dropout_1 (Dropout)         (None, 60, 100)           0         \n",
      "                                                                 \n",
      " lstm_2 (LSTM)               (None, 60, 100)           80400     \n",
      "                                                                 \n",
      " dropout_2 (Dropout)         (None, 60, 100)           0         \n",
      "                                                                 \n",
      " lstm_3 (LSTM)               (None, 60, 100)           80400     \n",
      "                                                                 \n",
      " dropout_3 (Dropout)         (None, 60, 100)           0         \n",
      "                                                                 \n",
      " permute (Permute)           (None, 100, 60)           0         \n",
      "                                                                 \n",
      " reshape (Reshape)           (None, 100, 60)           0         \n",
      "                                                                 \n",
      " additive_attention_layer (  (None, 100, 60)           60        \n",
      " AdditiveAttentionLayer)                                         \n",
      "                                                                 \n",
      " permute_1 (Permute)         (None, 60, 100)           0         \n",
      "                                                                 \n",
      " reshape_1 (Reshape)         (None, 120, 50)           0         \n",
      "                                                                 \n",
      " dropout_4 (Dropout)         (None, 120, 50)           0         \n",
      "                                                                 \n",
      " batch_normalization (Batch  (None, 120, 50)           200       \n",
      " Normalization)                                                  \n",
      "                                                                 \n",
      " flatten (Flatten)           (None, 6000)              0         \n",
      "                                                                 \n",
      " dense (Dense)               (None, 1)                 6001      \n",
      "                                                                 \n",
      "=================================================================\n",
      "Total params: 288261 (1.10 MB)\n",
      "Trainable params: 288161 (1.10 MB)\n",
      "Non-trainable params: 100 (400.00 Byte)\n",
      "_________________________________________________________________\n"
     ]
    }
   ],
   "source": [
    "model = Sequential()\n",
    "\n",
    "model.add(LSTM(units=100, return_sequences=True, input_shape = (X_train.shape[1], 1))) # don't specify batch dimension (first dimension)\n",
    "model.add(Dropout(0.2))\n",
    "\n",
    "model.add(LSTM(units=100, return_sequences=True))\n",
    "model.add(Dropout(0.2))\n",
    "\n",
    "model.add(LSTM(units=100, return_sequences=True))\n",
    "model.add(Dropout(0.2))\n",
    "\n",
    "# if (predict_multipledays):\n",
    "model.add(LSTM(units=100, return_sequences=True))\n",
    "# else:\n",
    "#     # final LSTM layer does not return sequences as we prepare data for the attention layer\n",
    "#     model.add(LSTM(units=100))\n",
    "model.add(Dropout(0.2))\n",
    "\n",
    "# Permute and reshape for compatibility\n",
    "model.add(Permute((2, 1))) \n",
    "model.add(Reshape((-1, X_train.shape[1])))\n",
    "# Self-attention mechanism\n",
    "#attention = AdditiveAttention(name='attention_weight')\n",
    "attention_layer = AdditiveAttentionLayer()\n",
    "model.add(attention_layer)\n",
    "#model.add(attention)\n",
    "#result = attention([model.output, model.output])\n",
    "#multiply_layer = Multiply()([model.output, attention.output])\n",
    "#attention_output = model.output\n",
    "# Return to original shape\n",
    "# Add Multiply layer taking the output of the CustomAdditiveAttentionLayer\n",
    "#multiply_layer = Multiply()([attention_output, attention_output])\n",
    "\n",
    "# Add the Multiply layer to the model\n",
    "#model.add(multiply_layer)\n",
    "model.add(Permute((2, 1)))\n",
    "model.add(Reshape((-1, 50)))\n",
    "\n",
    "# Dropout and Batch Normalization\n",
    "model.add(Dropout(0.2))\n",
    "model.add(BatchNormalization())\n",
    "\n",
    "model.add(Flatten()) # Flatten into a one dimensional vector\n",
    "\n",
    "# if (predict_multipledays):\n",
    "#     model.add(Dense(y_train.shape[1], activation='linear')) # number of timesteps per sample\n",
    "# else:\n",
    "model.add(Dense(units=1, activation='relu')) # Regression output for last value prediction\n",
    "\n",
    "model.compile(optimizer='adam', loss='mean_squared_error')\n",
    "\n",
    "# # Sentiment analysis - Add the classification output\n",
    "# model.add(Dense(1, activation='sigmoid'))  # Binary classification output\n",
    "\n",
    "# # Compile the model - both sentiment analysis and predict last day\n",
    "# model.compile(optimizer='adam',\n",
    "#               loss={'dense_1': 'binary_crossentropy', 'dense_2': 'mse'},\n",
    "#               metrics={'dense_1': 'accuracy', 'dense_2': 'mse'})\n",
    "\n",
    "# # Train the model\n",
    "# model.fit(X_train, {'dense_1': y_class_train, 'dense_2': y_pred_train},\n",
    "#           epochs=50, batch_size=32,\n",
    "#           validation_data=(X_test, {'dense_1': y_class_test, 'dense_2': y_pred_test}))\n",
    "\n",
    "# model = Sequential()\n",
    "# #l1 = Input(shape=input_shape)\n",
    "# l2 = LSTM(units=50, return_sequences=True, input_shape = (X_train.shape[1], 1))\n",
    "# l3 = LSTM(units=50, return_sequences=True)\n",
    "# l4 = Permute((2, 1))\n",
    "# l5 = Reshape((-1, X_train.shape[1]))\n",
    "# l6 = AdditiveAttention(name='attention_weight')([l5.output, l5.output])\n",
    "# l7 = Permute((2, 1))(l6.output)\n",
    "# l8 = Reshape((-1, 50))(l7.output)\n",
    "# l9 = Flatten()(l8.output)\n",
    "# l10 = Dense(1)(l9.output)\n",
    "# l11 = Dropout(0.2)(l10.output)\n",
    "# l12 = BatchNormalization()(l11.output)\n",
    "# model = Sequential(l2, l3, l4, l5, l6, l7, l8, l9, l10, l11, l12)\n",
    "\n",
    "model.summary()"
   ]
  },
  {
   "cell_type": "code",
   "execution_count": 11,
   "metadata": {},
   "outputs": [
    {
     "name": "stdout",
     "output_type": "stream",
     "text": [
      "Epoch 1/20\n",
      "WARNING:tensorflow:From c:\\Users\\justhess\\OneDrive - Agilent Technologies\\Documents\\Python\\Stocks\\venv\\Lib\\site-packages\\keras\\src\\utils\\tf_utils.py:492: The name tf.ragged.RaggedTensorValue is deprecated. Please use tf.compat.v1.ragged.RaggedTensorValue instead.\n",
      "\n",
      "5/5 - 7s - loss: 0.1209 - val_loss: 0.1028 - 7s/epoch - 1s/step\n",
      "Epoch 2/20\n",
      "5/5 - 1s - loss: 0.0542 - val_loss: 0.0790 - 841ms/epoch - 168ms/step\n",
      "Epoch 3/20\n",
      "5/5 - 1s - loss: 0.0627 - val_loss: 0.0720 - 828ms/epoch - 166ms/step\n",
      "Epoch 4/20\n",
      "5/5 - 1s - loss: 0.0404 - val_loss: 0.0698 - 823ms/epoch - 165ms/step\n",
      "Epoch 5/20\n",
      "5/5 - 1s - loss: 0.0378 - val_loss: 0.0663 - 826ms/epoch - 165ms/step\n",
      "Epoch 6/20\n",
      "5/5 - 1s - loss: 0.0320 - val_loss: 0.0619 - 811ms/epoch - 162ms/step\n",
      "Epoch 7/20\n",
      "5/5 - 1s - loss: 0.0345 - val_loss: 0.0611 - 813ms/epoch - 163ms/step\n",
      "Epoch 8/20\n",
      "5/5 - 1s - loss: 0.0295 - val_loss: 0.0546 - 816ms/epoch - 163ms/step\n",
      "Epoch 9/20\n",
      "5/5 - 1s - loss: 0.0268 - val_loss: 0.0509 - 819ms/epoch - 164ms/step\n",
      "Epoch 10/20\n",
      "5/5 - 1s - loss: 0.0279 - val_loss: 0.0487 - 819ms/epoch - 164ms/step\n",
      "Epoch 11/20\n",
      "5/5 - 1s - loss: 0.0264 - val_loss: 0.0429 - 813ms/epoch - 163ms/step\n",
      "Epoch 12/20\n",
      "5/5 - 1s - loss: 0.0257 - val_loss: 0.0417 - 805ms/epoch - 161ms/step\n",
      "Epoch 13/20\n",
      "5/5 - 1s - loss: 0.0203 - val_loss: 0.0342 - 815ms/epoch - 163ms/step\n",
      "Epoch 14/20\n",
      "5/5 - 1s - loss: 0.0219 - val_loss: 0.0310 - 810ms/epoch - 162ms/step\n",
      "Epoch 15/20\n",
      "5/5 - 1s - loss: 0.0205 - val_loss: 0.0263 - 798ms/epoch - 160ms/step\n",
      "Epoch 16/20\n",
      "5/5 - 1s - loss: 0.0221 - val_loss: 0.0272 - 806ms/epoch - 161ms/step\n",
      "Epoch 17/20\n",
      "5/5 - 1s - loss: 0.0228 - val_loss: 0.0203 - 802ms/epoch - 160ms/step\n",
      "Epoch 18/20\n",
      "5/5 - 1s - loss: 0.0199 - val_loss: 0.0186 - 809ms/epoch - 162ms/step\n",
      "Epoch 19/20\n",
      "5/5 - 1s - loss: 0.0196 - val_loss: 0.0158 - 806ms/epoch - 161ms/step\n",
      "Epoch 20/20\n",
      "5/5 - 1s - loss: 0.0178 - val_loss: 0.0140 - 806ms/epoch - 161ms/step\n"
     ]
    }
   ],
   "source": [
    "early_stopping = EarlyStopping(monitor='val_loss', patience=10) # 10 timesteps in a row validation loss does not decrease\n",
    "\n",
    "hist = model.fit(X_train, y_train, epochs=20, batch_size=32, verbose=2, validation_split=0.2, callbacks=[early_stopping])"
   ]
  },
  {
   "cell_type": "code",
   "execution_count": 12,
   "metadata": {},
   "outputs": [
    {
     "data": {
      "image/png": "[encoded data removed]",
      "text/plain": [
       "<Figure size 640x480 with 1 Axes>"
      ]
     },
     "metadata": {},
     "output_type": "display_data"
    }
   ],
   "source": [
    "plt.plot(hist.history['loss'])\n",
    "plt.title(\"Training model loss\")\n",
    "plt.ylabel('loss')\n",
    "plt.xlabel('epoch')\n",
    "plt.legend(['train'], loc='upper left')\n",
    "plt.show()"
   ]
  },
  {
   "cell_type": "code",
   "execution_count": 13,
   "metadata": {},
   "outputs": [
    {
     "name": "stdout",
     "output_type": "stream",
     "text": [
      "(46,) (46, 60)\n",
      "2/2 [==============================] - 0s 31ms/step - loss: 0.0261\n",
      "Test Loss:  0.026063162833452225\n"
     ]
    }
   ],
   "source": [
    "## Test against real data that take place timesteps + future days + 1 after train data end date\n",
    "\n",
    "# Get the test data (scaled) for prediction and actual stock prices from the test CSV file\n",
    "#y_pred, X_pred = get_test_data(stock_symbol)\n",
    "print(y_test.shape, X_test.shape)\n",
    "\n",
    "# Predict the next 4 days iteratively\n",
    "#predicted_prices = []\n",
    "#current_batch = X_test[-window_size:].reshape(1, 60, 1)  # Most recent timesteps days, ex. 60 days\n",
    "X_test.shape\n",
    "\n",
    "# Add batch size axis to test data from test train split at beginning for input into LSTM\n",
    "X_test = np.reshape(X_test, (X_test.shape[0], X_test.shape[1], 1)) # Last 1 indicates have one feature (the price) in each timestep\n",
    "X_test.shape\n",
    "\n",
    "# Now evaluate the model on the test data, and get the MSE metric we specified in model.compile()\n",
    "test_loss = model.evaluate(X_test, y_test)\n",
    "print(\"Test Loss: \", test_loss)"
   ]
  },
  {
   "cell_type": "code",
   "execution_count": 14,
   "metadata": {},
   "outputs": [
    {
     "name": "stdout",
     "output_type": "stream",
     "text": [
      "2/2 [==============================] - 1s 29ms/step\n",
      "(46, 1) (46,)\n",
      "Mean Squared Error:  0.026063161616638367\n"
     ]
    },
    {
     "name": "stderr",
     "output_type": "stream",
     "text": [
      "c:\\Users\\justhess\\OneDrive - Agilent Technologies\\Documents\\Python\\Stocks\\venv\\Lib\\site-packages\\sklearn\\metrics\\_regression.py:492: FutureWarning: 'squared' is deprecated in version 1.4 and will be removed in 1.6. To calculate the root mean squared error, use the function'root_mean_squared_error'.\n",
      "  warnings.warn(\n"
     ]
    }
   ],
   "source": [
    "y_pred = model.predict(X_test)\n",
    "print(y_pred.shape, y_test.shape)\n",
    "error = mean_squared_error(y_test, y_pred, squared=True)\n",
    "\n",
    "print(\"Mean Squared Error: \", error)\n",
    "\n",
    "# predicted_prices = sc.inverse_transform(y_pred)\n",
    "# predicted_prices.shape\n",
    "# np.squeeze(predicted_prices, 0).shape"
   ]
  },
  {
   "cell_type": "code",
   "execution_count": 15,
   "metadata": {},
   "outputs": [
    {
     "name": "stderr",
     "output_type": "stream",
     "text": [
      "[*********************100%%**********************]  1 of 1 completed\n"
     ]
    },
    {
     "data": {
      "text/plain": [
       "(60,)"
      ]
     },
     "execution_count": 15,
     "metadata": {},
     "output_type": "execute_result"
    }
   ],
   "source": [
    "# # get test data - we need number of timesteps (ex. 60) plus future days (ex. 4) that we are predicting \n",
    "# # (NOTE: Not the same as predicting a sequence of days at once, the LSTM should still predict just one future day based on the window)\n",
    "# get_stock_test_data(stock_symbol, test_start_timestamp, trading_days)\n",
    "\n",
    "# actual_stock_prices, X_pred = get_test_data(stock_symbol)\n",
    "# actual_stock_prices.shape, X_pred.shape\n",
    "\n",
    "data = predict_stock_price(stock_symbol, end_timestamp, window_size)\n",
    "\n",
    "# Prepare the data\n",
    "closing_prices = data['Close'].values[-window_size:]  # Last window_size days, ex. 60 days\n",
    "closing_prices.shape"
   ]
  },
  {
   "cell_type": "code",
   "execution_count": 16,
   "metadata": {},
   "outputs": [
    {
     "name": "stdout",
     "output_type": "stream",
     "text": [
      "1/1 [==============================] - 0s 25ms/step\n",
      "1/1 [==============================] - 0s 36ms/step\n",
      "1/1 [==============================] - 0s 23ms/step\n",
      "1/1 [==============================] - 0s 26ms/step\n",
      "Day 1 prediction: 134.34156799316406\n",
      "Day 2 prediction: 134.28968811035156\n",
      "Day 3 prediction: 134.2279815673828\n",
      "Day 4 prediction: 134.1542205810547\n"
     ]
    }
   ],
   "source": [
    "scaler = MinMaxScaler(feature_range=(0, 1))\n",
    "scaled_data = scaler.fit_transform(closing_prices.reshape(-1, 1))\n",
    "\n",
    "# Make predictions\n",
    "predicted_prices = []\n",
    "current_batch = scaled_data.reshape(1, window_size, 1)\n",
    "\n",
    "for i in range(4):  # Predicting 4 days\n",
    "    next_prediction = model.predict(current_batch)\n",
    "    # Add the batch dimension to the prediction (1, 1)\n",
    "    next_prediction_reshaped = next_prediction.reshape(1, 1, 1)\n",
    "    # Iteratively get all the data after the first index and append the next prediction to it on the timestep dimension (second)\n",
    "    current_batch = np.append(current_batch[:, 1:, :], next_prediction_reshaped, axis=1)\n",
    "    predicted_prices.append(scaler.inverse_transform(next_prediction)[0, 0])\n",
    "\n",
    "# Output the predictions\n",
    "for i, price in enumerate(predicted_prices, 1):\n",
    "    print(f\"Day {i} prediction: {price}\")"
   ]
  },
  {
   "cell_type": "code",
   "execution_count": 17,
   "metadata": {},
   "outputs": [
    {
     "data": {
      "image/png": "[encoded data removed]",
      "text/plain": [
       "<Figure size 1000x600 with 1 Axes>"
      ]
     },
     "metadata": {},
     "output_type": "display_data"
    }
   ],
   "source": [
    "# Creating a list of dates for the predictions\n",
    "last_date = data.index[-1]\n",
    "next_day = last_date + pd.Timedelta(days=1)\n",
    "prediction_dates = pd.date_range(start=next_day, periods=4)\n",
    "\n",
    "# Adding predictions to the DataFrame\n",
    "predicted_data = pd.DataFrame(index=prediction_dates, data=predicted_prices, columns=['Close'])\n",
    "\n",
    "# Combining both actual and predicted data\n",
    "combined_data = pd.concat([data['Close'], predicted_data['Close']])\n",
    "\n",
    "# Last 60 days of actual data + 4 days of predictions\n",
    "predict_days_num = window_size + 4\n",
    "combined_data = combined_data[-predict_days_num:]\n",
    "\n",
    "# Plotting the actual data\n",
    "plt.figure(figsize=(10,6))\n",
    "plt.plot(data.index[-window_size:], data['Close'][-window_size:], linestyle='-', marker='o', color='blue', label='Actual Data')\n",
    "\n",
    "# Plotting the predicted data\n",
    "plt.plot(prediction_dates, predicted_prices, linestyle='-', marker='o', color='red', label='Predicted Data')\n",
    "\n",
    "plt.title(f\"{stock_symbol} Stock Price Prediction\")\n",
    "plt.xlabel('Time (Day)')\n",
    "plt.ylabel('Price')\n",
    "plt.legend()\n",
    "plt.show()\n",
    "\n",
    "\n",
    "# plt.plot(actual_stock_prices, color = 'blue', label = 'Actual Stock Prices')\n",
    "# plt.plot(np.squeeze(predicted_prices, 0), color = 'red', label = 'Predicted Stock Prices')\n",
    "# plt.title(f\"{stock_symbol} Stock Price Prediction\")\n",
    "# plt.xlabel('Time (Day)')\n",
    "# plt.ylabel('Price')\n",
    "# plt.legend()\n",
    "# plt.show()"
   ]
  }
 ],
 "metadata": {
  "kernelspec": {
   "display_name": "venv",
   "language": "python",
   "name": "python3"
  },
  "language_info": {
   "codemirror_mode": {
    "name": "ipython",
    "version": 3
   },
   "file_extension": ".py",
   "mimetype": "text/x-python",
   "name": "python",
   "nbconvert_exporter": "python",
   "pygments_lexer": "ipython3",
   "version": "3.11.5"
  }
 },
 "nbformat": 4,
 "nbformat_minor": 2
}
