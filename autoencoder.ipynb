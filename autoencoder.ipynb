{
 "cells": [
  {
   "cell_type": "code",
   "execution_count": null,
   "metadata": {},
   "outputs": [],
   "source": [
    "import numpy as np\n",
    "from keras.models import Sequential\n",
    "from keras.layers import Conv1D, MaxPooling1D, UpSampling1D, Dense\n",
    "\n",
    "timesteps = 60\n",
    "\n",
    "# Assuming your input data has the shape (samples, timesteps, features)\n",
    "# where timesteps is the number of days and features is 10\n",
    "input_shape = (timesteps, 10)\n",
    "\n",
    "# Define the encoder\n",
    "encoder = Sequential()\n",
    "encoder.add(Conv1D(filters=32, kernel_size=3, activation='relu', input_shape=input_shape))\n",
    "encoder.add(MaxPooling1D(pool_size=2))\n",
    "encoder.add(Conv1D(filters=16, kernel_size=3, activation='relu'))\n",
    "encoder.add(MaxPooling1D(pool_size=2))\n",
    "encoder.add(Dense(5, activation='linear'))\n",
    "\n",
    "# Define the decoder\n",
    "decoder = Sequential()\n",
    "decoder.add(UpSampling1D(size=2, input_shape=(None, 5)))\n",
    "decoder.add(Conv1D(filters=16, kernel_size=3, activation='relu'))\n",
    "decoder.add(UpSampling1D(size=2))\n",
    "decoder.add(Conv1D(filters=10, kernel_size=3, activation='linear'))\n",
    "\n",
    "# Define the autoencoder model\n",
    "autoencoder = Sequential()\n",
    "autoencoder.add(encoder)\n",
    "autoencoder.add(decoder)\n",
    "\n",
    "# Compile the model\n",
    "autoencoder.compile(optimizer='adam', loss='mse')"
   ]
  }
 ],
 "metadata": {
  "language_info": {
   "name": "python"
  }
 },
 "nbformat": 4,
 "nbformat_minor": 2
}
